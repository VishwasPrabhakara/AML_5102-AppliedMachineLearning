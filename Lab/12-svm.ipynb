{
  "cells": [
    {
      "cell_type": "code",
      "execution_count": null,
      "metadata": {
        "id": "b_hN0a9Rem7K"
      },
      "outputs": [],
      "source": [
        "import pandas as pd\n",
        "import numpy as np\n",
        "import os\n",
        "from scipy import stats\n",
        "\n",
        "from sklearn.svm import SVC\n",
        "\n",
        "import matplotlib.pyplot as plt\n",
        "import matplotlib.cm as cm\n",
        "%matplotlib inline\n",
        "import seaborn as sns\n",
        "sns.set()\n",
        "from mpl_toolkits import mplot3d"
      ]
    },
    {
      "cell_type": "markdown",
      "metadata": {},
      "source": [
        "# A. Linear SVM "
      ]
    },
    {
      "cell_type": "markdown",
      "metadata": {},
      "source": [
        "##### 1. Create data"
      ]
    },
    {
      "cell_type": "code",
      "execution_count": null,
      "metadata": {
        "colab": {
          "base_uri": "https://localhost:8080/",
          "height": 396
        },
        "id": "eqZPdWn19X4A",
        "outputId": "c555706e-a8ae-41b9-9041-f6c016f17d38"
      },
      "outputs": [],
      "source": [
        "from sklearn.datasets import make_blobs\n",
        "\n",
        "# Simulate linearly separable data\n",
        "X, y = make_blobs(n_samples = 50, centers = 2, random_state = 0, cluster_std = 0.60)"
      ]
    },
    {
      "cell_type": "code",
      "execution_count": null,
      "metadata": {},
      "outputs": [],
      "source": [
        "fig, ax = plt.subplots(1, 1, figsize = (8, 6))\n",
        "fig.tight_layout(pad = 4.0)\n",
        "ax.scatter(X[:, 0], X[:, 1], c = y, s = 50, cmap = plt.cm.Spectral)"
      ]
    },
    {
      "cell_type": "code",
      "execution_count": null,
      "metadata": {
        "colab": {
          "base_uri": "https://localhost:8080/"
        },
        "id": "82b4_BtTur-Y",
        "outputId": "71984509-9a35-4822-8c68-644fd3c6957f"
      },
      "outputs": [],
      "source": [
        "X.shape"
      ]
    },
    {
      "cell_type": "markdown",
      "metadata": {},
      "source": [
        "##### 2. Plot few decision boundaries with margin"
      ]
    },
    {
      "cell_type": "code",
      "execution_count": null,
      "metadata": {
        "colab": {
          "base_uri": "https://localhost:8080/",
          "height": 379
        },
        "id": "1kszF9qh-WQr",
        "outputId": "73aecb00-ec53-4b5a-d579-007c0ab2ff7b"
      },
      "outputs": [],
      "source": [
        "# Draw few lines that separate the linearly separable data\n",
        "fig, ax = plt.subplots(1, 1, figsize = (8, 6))\n",
        "fig.tight_layout(pad = 4.0)\n",
        "xfit = np.linspace(-1, 3.5)\n",
        "ax.scatter(X[:, 0], X[:, 1], c = y, s = 50, cmap = plt.cm.Spectral)\n",
        "ax.plot([0.6], [2.1], 'x', color = 'red', markeredgewidth = 2, markersize = 10)\n",
        "ax.text(-0.1, 2.1, 'new data', fontsize = 12)\n",
        "for w, b in [(1, 0.65), (0.5, 1.6), (-0.2, 2.9)]:\n",
        "  ax.plot(xfit, w * xfit + b, '--k')\n",
        "  ax.set_xlim(-1, 3.5);"
      ]
    },
    {
      "cell_type": "code",
      "execution_count": null,
      "metadata": {
        "colab": {
          "base_uri": "https://localhost:8080/",
          "height": 396
        },
        "id": "_viqo9GG-ygU",
        "outputId": "d958922b-416e-4ba0-cf5a-d8148132443c"
      },
      "outputs": [],
      "source": [
        "## Plot margins for the lines that separate the linearly separable data\n",
        "fig, ax = plt.subplots(1, 1, figsize = (8, 6))\n",
        "fig.tight_layout(pad = 4.0)\n",
        "xfit = np.linspace(-1, 3.5)\n",
        "plt.scatter(X[:, 0], X[:, 1], c = y, s = 50, cmap = plt.cm.Spectral)\n",
        "for w, b, d in [(1, 0.65, 0.33), (0.5, 1.6, 0.55), (-0.2, 2.9, 0.2)]:\n",
        "  yfit = w * xfit + b\n",
        "  ax.plot(xfit, yfit, '--k')\n",
        "  ax.fill_between(xfit, yfit - d, yfit + d, edgecolor = 'none', color = '#AAAAAA', alpha=0.4)\n",
        "ax.set_xlim(-1, 3.5)"
      ]
    },
    {
      "cell_type": "markdown",
      "metadata": {},
      "source": [
        "##### 3. Utility functions"
      ]
    },
    {
      "cell_type": "code",
      "execution_count": null,
      "metadata": {},
      "outputs": [],
      "source": [
        "# User-defined function to plot the decision boundary with margins\n",
        "# for a two-dimensional SVC\n",
        "def plot_svc_decision_function(model, ax = None, plot_margin = True, plot_support = True):\n",
        "  if ax is None:\n",
        "    ax = plt.gca()\n",
        "\n",
        "  # Generate 2D grid of points with 1000 x 1000 points\n",
        "  x1, x2 = np.mgrid[np.min(X[:, 0]) - 0.5:np.max(X[:, 0]) + 0.5:1000j,\n",
        "                    np.min(X[:, 1]) - 0.5:np.max(X[:, 1]) + 0.5:1000j]\n",
        "\n",
        "  ax.scatter(X[:, 0], X[:, 1], c = y, s = 40, cmap = plt.cm.Spectral)\n",
        "  ax.set_xlim(x1.min(), x1.max())\n",
        "  ax.set_ylim(x2.min(), x2.max())\n",
        "  #plt.title(' ')\n",
        "\n",
        "  # Calculate category corresponding to each point on the grid\n",
        "  category = model.predict(np.vstack([x1.flatten(), x2.flatten()]).T).reshape(x1.shape)\n",
        "  ax.contourf(x1, x2, category, cmap = plt.cm.Spectral, alpha = 0.3)\n",
        "\n",
        "  # Plot margin\n",
        "  if plot_margin:\n",
        "    # Calculate score corresponding to each point on grid\n",
        "    score = model.decision_function(np.vstack([x1.flatten(), x2.flatten()]).T).reshape(x1.shape)\n",
        "    ax.contour(x1, x2, score, colors = 'k',\n",
        "               levels = [-1, 0, 1],\n",
        "               linestyles = ['--', '-', '--'])\n",
        "\n",
        "  # Plot support vectors\n",
        "  if plot_support:\n",
        "    ax.scatter(model.support_vectors_[:, 0],\n",
        "               model.support_vectors_[:, 1],\n",
        "               s = 150, linewidth = 1, facecolors = 'none', edgecolors = 'k')"
      ]
    },
    {
      "cell_type": "markdown",
      "metadata": {},
      "source": [
        "##### 4. Fit default SVC and plot"
      ]
    },
    {
      "cell_type": "code",
      "execution_count": null,
      "metadata": {},
      "outputs": [],
      "source": [
        "## Fit a linear support vector machine model (linear decision boundary)\n",
        "model = SVC(kernel = 'linear')\n",
        "model.fit(X, y)"
      ]
    },
    {
      "cell_type": "code",
      "execution_count": null,
      "metadata": {},
      "outputs": [],
      "source": [
        "# Plot linear decision boundary of linear model with margins\n",
        "fig, ax = plt.subplots(1, 1, figsize = (8, 6))\n",
        "fig.tight_layout(pad = 4.0)\n",
        "plot_svc_decision_function(model, ax)"
      ]
    },
    {
      "cell_type": "markdown",
      "metadata": {},
      "source": [
        "##### 5. Fit SVC with reg parameter C"
      ]
    },
    {
      "cell_type": "code",
      "execution_count": null,
      "metadata": {
        "colab": {
          "base_uri": "https://localhost:8080/"
        },
        "id": "I_11PBr1_qFu",
        "outputId": "7f5e276f-908e-4a14-9ed7-81173de615f0"
      },
      "outputs": [],
      "source": [
        "## Fit a linear support vector machine model (linear decision boundary)\n",
        "model = SVC(kernel = 'linear', C = 1E10)\n",
        "model.fit(X, y)"
      ]
    },
    {
      "cell_type": "code",
      "execution_count": null,
      "metadata": {},
      "outputs": [],
      "source": [
        "# Plot linear decision boundary of linear model with margins\n",
        "fig, ax = plt.subplots(1, 1, figsize = (8, 6))\n",
        "fig.tight_layout(pad = 4.0)\n",
        "plot_svc_decision_function(model, ax)"
      ]
    },
    {
      "cell_type": "markdown",
      "metadata": {},
      "source": [
        "##### 6. model coefficients"
      ]
    },
    {
      "cell_type": "code",
      "execution_count": null,
      "metadata": {
        "colab": {
          "base_uri": "https://localhost:8080/"
        },
        "id": "eNGC0kfGVNZC",
        "outputId": "8addae2f-4774-4da4-e6da-fdaefbd93046"
      },
      "outputs": [],
      "source": [
        "# Print the samples that are the support-vectors (special samples)\n",
        "model.support_vectors_"
      ]
    },
    {
      "cell_type": "code",
      "execution_count": null,
      "metadata": {
        "colab": {
          "base_uri": "https://localhost:8080/"
        },
        "id": "hx8I69zAXK8k",
        "outputId": "fe58b917-2625-49ea-de01-4661bbdce5c3"
      },
      "outputs": [],
      "source": [
        "# Bias or intercept of the decision boundary line\n",
        "print(model.intercept_)\n",
        "# Weight for the first output class which is also the decision boundary line's slope\n",
        "print(model.coef_[0][0])\n",
        "# Weights for the two classes\n",
        "print(model.coef_)"
      ]
    },
    {
      "cell_type": "markdown",
      "metadata": {},
      "source": [
        "##### 7. SVM for different C for data is more spread out"
      ]
    },
    {
      "cell_type": "code",
      "execution_count": null,
      "metadata": {
        "colab": {
          "base_uri": "https://localhost:8080/",
          "height": 393
        },
        "id": "I7Q5WGfIEZjc",
        "outputId": "a0862d7b-b7ef-4099-dd62-9d9cb4f80767"
      },
      "outputs": [],
      "source": [
        "# Plot the model learned from the first 60 points and then from the\n",
        "# first 120 points of the linearly separable dataset\n",
        "def plot_svm(N = 10, C = 0, ax = None):\n",
        "  X, y = make_blobs(n_samples = 200, centers = 2, random_state = 0,\n",
        "                    cluster_std = 0.60)\n",
        "  X = X[:N]\n",
        "  y = y[:N]\n",
        "  model = SVC(kernel = 'linear', C=C)\n",
        "  model.fit(X, y)\n",
        "  ax = ax or plt.gca()\n",
        "  ax.scatter(X[:, 0], X[:, 1], c = y, s = 50, cmap = plt.cm.Spectral)\n",
        "  ax.set_xlim(-1, 4)\n",
        "  ax.set_ylim(-1, 6)\n",
        "  plot_svc_decision_function(model, ax)"
      ]
    },
    {
      "cell_type": "code",
      "execution_count": null,
      "metadata": {},
      "outputs": [],
      "source": [
        "C = C = 1E-2\n",
        "fig, ax = plt.subplots(1, 2, figsize=(16, 6))\n",
        "fig.subplots_adjust(left = 0.0625, right = 0.95, wspace = 0.1)\n",
        "for axi, N in zip(ax, [60, 120]):\n",
        "  plot_svm(N, C, axi)\n",
        "  axi.set_title('N = {0}'.format(N))"
      ]
    },
    {
      "cell_type": "code",
      "execution_count": null,
      "metadata": {},
      "outputs": [],
      "source": [
        "C = 1E5\n",
        "fig, ax = plt.subplots(1, 2, figsize=(16, 6))\n",
        "fig.subplots_adjust(left = 0.0625, right = 0.95, wspace = 0.1)\n",
        "for axi, N in zip(ax, [60, 120]):\n",
        "  plot_svm(N, C, axi)\n",
        "  axi.set_title('N = {0}'.format(N))"
      ]
    },
    {
      "cell_type": "markdown",
      "metadata": {},
      "source": [
        "**Interpreting above result**\n",
        "\n",
        "$$\n",
        "\\mathcal{J}(w, b) = \\min_{w, b} \\frac{\\|w\\|^2}{2} + C \\sum_{i=1}^m max(0, 1-y^{(i)}(w^Tx^{(i)} + b))\n",
        "$$\n",
        "\n",
        "<h5 align=\"center\">Overall Loss = data loss + regularization (penalty) loss</h4>\n",
        "\n",
        "1. Decision boundary has to be linear (because of how we configured SVC)\n",
        "2. When C was less, the overall contribution of the penalty term (second term) to loss is lesser, hence SVM forms a wider margin for support vectors\n",
        "3. When C is high, the contribution of penalty term to overall loss is very high, hence the SVM solver of the overall loss tries to reduce penalties. The only way to do this is by increasing the margin, even at the cost of a higher misclassification rate during training "
      ]
    },
    {
      "cell_type": "markdown",
      "metadata": {},
      "source": [
        "# B. Non linear SVM (using Kernels)"
      ]
    },
    {
      "cell_type": "markdown",
      "metadata": {},
      "source": [
        "##### 1. Fitting with RBF Kernel"
      ]
    },
    {
      "cell_type": "code",
      "execution_count": null,
      "metadata": {},
      "outputs": [],
      "source": [
        "from sklearn.datasets import make_circles"
      ]
    },
    {
      "cell_type": "code",
      "execution_count": null,
      "metadata": {
        "colab": {
          "base_uri": "https://localhost:8080/",
          "height": 396
        },
        "id": "wfqWj1wcG8Nr",
        "outputId": "ee55344c-c705-4824-bdb7-6ff7a4d091cf"
      },
      "outputs": [],
      "source": [
        "# Simulate nonlinear separable data and plot\n",
        "X, y = make_circles(100, factor = .1, noise = .1)\n",
        "fig, ax = plt.subplots(1, 1, figsize = (8, 6))\n",
        "fig.tight_layout(pad = 4.0)\n",
        "ax.scatter(X[:, 0], X[:, 1], c = y, s = 50, cmap = plt.cm.Spectral)"
      ]
    },
    {
      "cell_type": "code",
      "execution_count": null,
      "metadata": {
        "id": "1zZ5glkmJtrE"
      },
      "outputs": [],
      "source": [
        "# Fit a linear model (linear decision boundary) for the nonlinear separable data\n",
        "model = SVC(kernel = 'linear', C = 1e06).fit(X, y)"
      ]
    },
    {
      "cell_type": "code",
      "execution_count": null,
      "metadata": {
        "colab": {
          "base_uri": "https://localhost:8080/",
          "height": 379
        },
        "id": "KR7bdZpwRbqH",
        "outputId": "9417ce45-4e1a-4c86-8f9e-02db4f22b41b"
      },
      "outputs": [],
      "source": [
        "# Plot the linear decision boundary with margins\n",
        "fig, ax = plt.subplots(1, 1, figsize = (8, 6))\n",
        "fig.tight_layout(pad = 4.0)\n",
        "ax.scatter(X[:, 0], X[:, 1], c = y, s = 50, cmap = plt.cm.Spectral)\n",
        "plot_svc_decision_function(model, ax, plot_support = False);"
      ]
    },
    {
      "cell_type": "code",
      "execution_count": null,
      "metadata": {
        "id": "x_uoG7cwHIR4"
      },
      "outputs": [],
      "source": [
        "# Let's investigate a new feature for the nonlinear data\n",
        "r = np.exp(-(X ** 2).sum(1))"
      ]
    },
    {
      "cell_type": "code",
      "execution_count": null,
      "metadata": {
        "colab": {
          "base_uri": "https://localhost:8080/"
        },
        "id": "x1E7_J3yIC1g",
        "outputId": "1113da9f-1e89-4b6e-a2a6-d0d2569e9889"
      },
      "outputs": [],
      "source": [
        "# Fit a nonlinear model (nonlinear decision boundary) to the nonlinear data\n",
        "model = SVC(kernel = 'rbf', C = 1E6)\n",
        "model.fit(X, y)"
      ]
    },
    {
      "cell_type": "code",
      "execution_count": null,
      "metadata": {
        "colab": {
          "base_uri": "https://localhost:8080/",
          "height": 379
        },
        "id": "QMQFyq-8IPph",
        "outputId": "d4d1ca64-f678-48fd-a369-72036c1771df"
      },
      "outputs": [],
      "source": [
        "# Plot the nonlinear decision boundary with margins\n",
        "fig, ax = plt.subplots(1, 1, figsize = (8, 6))\n",
        "fig.tight_layout(pad = 4.0)\n",
        "ax.scatter(X[:, 0], X[:, 1], c = y, s = 50, cmap = plt.cm.Spectral)\n",
        "plot_svc_decision_function(model, ax)"
      ]
    },
    {
      "cell_type": "markdown",
      "metadata": {},
      "source": [
        "![Separating Non linear data with linear decision boundary](https://onedrive.live.com/embed?resid=A5A4158EF1352FCB%211976&authkey=%21ABOMS2jSDP8lp3U&width=400)\n",
        "![Non linear data](https://onedrive.live.com/embed?resid=A5A4158EF1352FCB%211975&authkey=%21AMt5oynPpKUuKBw&width=450)"
      ]
    },
    {
      "cell_type": "code",
      "execution_count": null,
      "metadata": {
        "colab": {
          "base_uri": "https://localhost:8080/",
          "height": 379
        },
        "id": "QXvyyvETznwK",
        "outputId": "e0b1be43-0c5c-4991-f518-6be632914224"
      },
      "outputs": [],
      "source": [
        "model = SVC(kernel = 'rbf', C = 1E-6)\n",
        "model.fit(X, y)\n",
        "fig, ax = plt.subplots(1, 1, figsize = (8, 6))\n",
        "fig.tight_layout(pad = 4.0)\n",
        "ax.scatter(X[:, 0], X[:, 1], c = y, s = 50, cmap = plt.cm.Spectral)\n",
        "plot_svc_decision_function(model, ax)"
      ]
    },
    {
      "cell_type": "markdown",
      "metadata": {},
      "source": [
        "# C. RBF kernel in detail"
      ]
    },
    {
      "cell_type": "code",
      "execution_count": null,
      "metadata": {
        "colab": {
          "base_uri": "https://localhost:8080/",
          "height": 396
        },
        "id": "GBJ97cafIWqU",
        "outputId": "20d442ce-2432-417b-f6f8-7dfafe8481d0"
      },
      "outputs": [],
      "source": [
        "# Simulate data that is non-separable and plot\n",
        "X, y = make_blobs(n_samples = 100, centers = 2, random_state = 0, cluster_std = 1.2)\n",
        "fig, ax = plt.subplots(1, 1, figsize = (8, 6))\n",
        "fig.tight_layout(pad = 4.0)\n",
        "ax.scatter(X[:, 0], X[:, 1], c = y, s = 50, cmap = plt.cm.Spectral)"
      ]
    },
    {
      "cell_type": "code",
      "execution_count": null,
      "metadata": {
        "colab": {
          "base_uri": "https://localhost:8080/",
          "height": 394
        },
        "id": "CWKz13nQR_Vn",
        "outputId": "235c36ae-cc5c-4098-dcec-0723039c8cb2"
      },
      "outputs": [],
      "source": [
        "# Fit a linear model (linear decision boundary) to the non-separable data\n",
        "# and investigate the margin for small and large values of parameter C\n",
        "fig, ax = plt.subplots(1, 2, figsize=(16, 6))\n",
        "fig.subplots_adjust(left=0.0625, right=0.95, wspace=0.1)\n",
        "\n",
        "for axi, C in zip(ax, [10.0, 0.1]):\n",
        "  model = SVC(kernel='linear', C=C).fit(X, y)\n",
        "  axi.scatter(X[:, 0], X[:, 1], c = y, s = 50, cmap = plt.cm.Spectral)\n",
        "  plot_svc_decision_function(model, axi)\n",
        "  axi.set_title('C = {0:.1f}'.format(C), size=14)"
      ]
    },
    {
      "cell_type": "code",
      "execution_count": null,
      "metadata": {
        "colab": {
          "base_uri": "https://localhost:8080/"
        },
        "id": "xh_WS5onQyFK",
        "outputId": "bee7a8ca-dbfb-4571-fa37-51219b837a98"
      },
      "outputs": [],
      "source": [
        "# Fit a nonlinear model (nonlinear decision boundary) to the non-separable data\n",
        "model = SVC(kernel = 'rbf', C = 1E-3)\n",
        "model.fit(X, y)"
      ]
    },
    {
      "cell_type": "code",
      "execution_count": null,
      "metadata": {
        "colab": {
          "base_uri": "https://localhost:8080/",
          "height": 379
        },
        "id": "8Tb1fW_YQ9mn",
        "outputId": "7afad1fc-0aac-41ce-cf3c-96c3b23f1b79"
      },
      "outputs": [],
      "source": [
        "# Plot the nonlinear decision boundary\n",
        "fig, ax = plt.subplots(1, 1, figsize = (8, 6))\n",
        "fig.tight_layout(pad = 4.0)\n",
        "ax.scatter(X[:, 0], X[:, 1], c = y, s = 50, cmap = plt.cm.Spectral)\n",
        "plot_svc_decision_function(model, ax, plot_margin = False, plot_support = False)"
      ]
    },
    {
      "cell_type": "code",
      "execution_count": null,
      "metadata": {
        "colab": {
          "base_uri": "https://localhost:8080/",
          "height": 879
        },
        "id": "0hGYZmL1imCg",
        "outputId": "94774573-f1ea-4204-dbe4-5e1e3565d1ba"
      },
      "outputs": [],
      "source": [
        "from itertools import product\n",
        "# Investigate nonlinear decision boundary for non-separable data\n",
        "# for different values of the parameter C\n",
        "fig, ax = plt.subplots(3, 3, figsize=(24, 18))\n",
        "fig.subplots_adjust(left = 0.0625, right = 0.95, wspace = 0.1)\n",
        "\n",
        "for axi, C in zip(ax, [10.0, 1, 0.1]):\n",
        "  for axy, gamma in zip(axi, [10, 0.1, 1]):\n",
        "    model = SVC(kernel = 'rbf', C = C, gamma = gamma).fit(X, y)\n",
        "    axy.scatter(X[:, 0], X[:, 1], c = y, s = 50, cmap = plt.cm.Spectral)\n",
        "    plot_svc_decision_function(model, axy, plot_margin = False, plot_support = False)\n",
        "    axy.set_title(f'C = {C}, Gamma={gamma}', size=14)"
      ]
    },
    {
      "cell_type": "markdown",
      "metadata": {},
      "source": [
        "\n",
        "**Understanding gamma in RBF**\n",
        "\n",
        "![Separating Non linear data with linear decision boundary](https://onedrive.live.com/embed?resid=A5A4158EF1352FCB%211976&authkey=%21ABOMS2jSDP8lp3U&width=400)\n",
        "![Non linear data](https://onedrive.live.com/embed?resid=A5A4158EF1352FCB%211975&authkey=%21AMt5oynPpKUuKBw&width=450)\n",
        "\n",
        "\n",
        "![Kernel formulas](https://onedrive.live.com/embed?resid=A5A4158EF1352FCB%211977&authkey=%21AMwbuXgYaHrSe4I&width=1513&height=243)"
      ]
    },
    {
      "cell_type": "code",
      "execution_count": null,
      "metadata": {},
      "outputs": [],
      "source": [
        "# Investigate nonlinear decision boundary for non-separable data\n",
        "# for different values of the parameter C\n",
        "fig, ax = plt.subplots(1, 3, figsize=(24, 6))\n",
        "fig.subplots_adjust(left = 0.0625, right = 0.95, wspace = 0.1)\n",
        "\n",
        "for axi, C, gamma in zip(ax, [1, 1, 1], ['scale', 'auto', 1]):\n",
        "  model = SVC(kernel = 'rbf', C = C, gamma = gamma).fit(X, y)\n",
        "  axi.scatter(X[:, 0], X[:, 1], c = y, s = 50, cmap = plt.cm.Spectral)\n",
        "  plot_svc_decision_function(model, axi, plot_margin = False, plot_support = False)\n",
        "  axi.set_title(f'C = {C}, Gamma={gamma}', size=14)"
      ]
    },
    {
      "cell_type": "code",
      "execution_count": null,
      "metadata": {},
      "outputs": [],
      "source": []
    }
  ],
  "metadata": {
    "colab": {
      "provenance": []
    },
    "kernelspec": {
      "display_name": "Python 3",
      "name": "python3"
    },
    "language_info": {
      "codemirror_mode": {
        "name": "ipython",
        "version": 3
      },
      "file_extension": ".py",
      "mimetype": "text/x-python",
      "name": "python",
      "nbconvert_exporter": "python",
      "pygments_lexer": "ipython3",
      "version": "3.9.17"
    },
    "widgets": {
      "application/vnd.jupyter.widget-state+json": {
        "305b096712e54e6c9ec557c41b19b668": {
          "model_module": "@jupyter-widgets/controls",
          "model_module_version": "1.5.0",
          "model_name": "DescriptionStyleModel",
          "state": {
            "_model_module": "@jupyter-widgets/controls",
            "_model_module_version": "1.5.0",
            "_model_name": "DescriptionStyleModel",
            "_view_count": null,
            "_view_module": "@jupyter-widgets/base",
            "_view_module_version": "1.2.0",
            "_view_name": "StyleView",
            "description_width": ""
          }
        },
        "30dec62e13e14fc585497f3032b56824": {
          "model_module": "@jupyter-widgets/base",
          "model_module_version": "1.2.0",
          "model_name": "LayoutModel",
          "state": {
            "_model_module": "@jupyter-widgets/base",
            "_model_module_version": "1.2.0",
            "_model_name": "LayoutModel",
            "_view_count": null,
            "_view_module": "@jupyter-widgets/base",
            "_view_module_version": "1.2.0",
            "_view_name": "LayoutView",
            "align_content": null,
            "align_items": null,
            "align_self": null,
            "border": null,
            "bottom": null,
            "display": null,
            "flex": null,
            "flex_flow": null,
            "grid_area": null,
            "grid_auto_columns": null,
            "grid_auto_flow": null,
            "grid_auto_rows": null,
            "grid_column": null,
            "grid_gap": null,
            "grid_row": null,
            "grid_template_areas": null,
            "grid_template_columns": null,
            "grid_template_rows": null,
            "height": null,
            "justify_content": null,
            "justify_items": null,
            "left": null,
            "margin": null,
            "max_height": null,
            "max_width": null,
            "min_height": null,
            "min_width": null,
            "object_fit": null,
            "object_position": null,
            "order": null,
            "overflow": null,
            "overflow_x": null,
            "overflow_y": null,
            "padding": null,
            "right": null,
            "top": null,
            "visibility": null,
            "width": null
          }
        },
        "57dd856e9c90403499f16458ee2599d0": {
          "model_module": "@jupyter-widgets/output",
          "model_module_version": "1.0.0",
          "model_name": "OutputModel",
          "state": {
            "_dom_classes": [],
            "_model_module": "@jupyter-widgets/output",
            "_model_module_version": "1.0.0",
            "_model_name": "OutputModel",
            "_view_count": null,
            "_view_module": "@jupyter-widgets/output",
            "_view_module_version": "1.0.0",
            "_view_name": "OutputView",
            "layout": "IPY_MODEL_f7e75f4069b14cab978f8116e99aadec",
            "msg_id": "",
            "outputs": [
              {
                "data": {
                  "image/png": "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\n",
                  "text/plain": "<Figure size 432x288 with 1 Axes>"
                },
                "metadata": {
                  "needs_background": "light"
                },
                "output_type": "display_data"
              }
            ]
          }
        },
        "83146292ab5448668e1a75343d967fb7": {
          "model_module": "@jupyter-widgets/base",
          "model_module_version": "1.2.0",
          "model_name": "LayoutModel",
          "state": {
            "_model_module": "@jupyter-widgets/base",
            "_model_module_version": "1.2.0",
            "_model_name": "LayoutModel",
            "_view_count": null,
            "_view_module": "@jupyter-widgets/base",
            "_view_module_version": "1.2.0",
            "_view_name": "LayoutView",
            "align_content": null,
            "align_items": null,
            "align_self": null,
            "border": null,
            "bottom": null,
            "display": null,
            "flex": null,
            "flex_flow": null,
            "grid_area": null,
            "grid_auto_columns": null,
            "grid_auto_flow": null,
            "grid_auto_rows": null,
            "grid_column": null,
            "grid_gap": null,
            "grid_row": null,
            "grid_template_areas": null,
            "grid_template_columns": null,
            "grid_template_rows": null,
            "height": null,
            "justify_content": null,
            "justify_items": null,
            "left": null,
            "margin": null,
            "max_height": null,
            "max_width": null,
            "min_height": null,
            "min_width": null,
            "object_fit": null,
            "object_position": null,
            "order": null,
            "overflow": null,
            "overflow_x": null,
            "overflow_y": null,
            "padding": null,
            "right": null,
            "top": null,
            "visibility": null,
            "width": null
          }
        },
        "972b96991dbb477dab1376cee5429a77": {
          "model_module": "@jupyter-widgets/controls",
          "model_module_version": "1.5.0",
          "model_name": "DropdownModel",
          "state": {
            "_dom_classes": [],
            "_model_module": "@jupyter-widgets/controls",
            "_model_module_version": "1.5.0",
            "_model_name": "DropdownModel",
            "_options_labels": [
              "10",
              "200"
            ],
            "_view_count": null,
            "_view_module": "@jupyter-widgets/controls",
            "_view_module_version": "1.5.0",
            "_view_name": "DropdownView",
            "description": "N",
            "description_tooltip": null,
            "disabled": false,
            "index": 0,
            "layout": "IPY_MODEL_83146292ab5448668e1a75343d967fb7",
            "style": "IPY_MODEL_305b096712e54e6c9ec557c41b19b668"
          }
        },
        "c5beea6c16454815aa6a5ee7e1b8b4e8": {
          "model_module": "@jupyter-widgets/controls",
          "model_module_version": "1.5.0",
          "model_name": "VBoxModel",
          "state": {
            "_dom_classes": [
              "widget-interact"
            ],
            "_model_module": "@jupyter-widgets/controls",
            "_model_module_version": "1.5.0",
            "_model_name": "VBoxModel",
            "_view_count": null,
            "_view_module": "@jupyter-widgets/controls",
            "_view_module_version": "1.5.0",
            "_view_name": "VBoxView",
            "box_style": "",
            "children": [
              "IPY_MODEL_972b96991dbb477dab1376cee5429a77",
              "IPY_MODEL_57dd856e9c90403499f16458ee2599d0"
            ],
            "layout": "IPY_MODEL_30dec62e13e14fc585497f3032b56824"
          }
        },
        "f7e75f4069b14cab978f8116e99aadec": {
          "model_module": "@jupyter-widgets/base",
          "model_module_version": "1.2.0",
          "model_name": "LayoutModel",
          "state": {
            "_model_module": "@jupyter-widgets/base",
            "_model_module_version": "1.2.0",
            "_model_name": "LayoutModel",
            "_view_count": null,
            "_view_module": "@jupyter-widgets/base",
            "_view_module_version": "1.2.0",
            "_view_name": "LayoutView",
            "align_content": null,
            "align_items": null,
            "align_self": null,
            "border": null,
            "bottom": null,
            "display": null,
            "flex": null,
            "flex_flow": null,
            "grid_area": null,
            "grid_auto_columns": null,
            "grid_auto_flow": null,
            "grid_auto_rows": null,
            "grid_column": null,
            "grid_gap": null,
            "grid_row": null,
            "grid_template_areas": null,
            "grid_template_columns": null,
            "grid_template_rows": null,
            "height": null,
            "justify_content": null,
            "justify_items": null,
            "left": null,
            "margin": null,
            "max_height": null,
            "max_width": null,
            "min_height": null,
            "min_width": null,
            "object_fit": null,
            "object_position": null,
            "order": null,
            "overflow": null,
            "overflow_x": null,
            "overflow_y": null,
            "padding": null,
            "right": null,
            "top": null,
            "visibility": null,
            "width": null
          }
        }
      }
    }
  },
  "nbformat": 4,
  "nbformat_minor": 0
}
